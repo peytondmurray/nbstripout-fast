{
 "cells": [
  {
   "cell_type": "code",
   "execution_count": null,
   "id": "6eb28cf1-16af-4bb5-9300-a6e5c38021cc",
   "metadata": {},
   "outputs": [],
   "source": [
    "from tqdm import tqdm\n",
    "from IPython.display import display"
   ]
  },
  {
   "cell_type": "code",
   "execution_count": null,
   "id": "f3d6ed14-712b-4cf5-9c9f-8e24aa3d5102",
   "metadata": {},
   "outputs": [],
   "source": [
    "for i in tqdm(range(6)):\n",
    "    pass"
   ]
  },
  {
   "cell_type": "code",
   "execution_count": null,
   "id": "b01a519c-3faf-49b4-a6a2-7fedab0f58c6",
   "metadata": {},
   "outputs": [
    {
     "data": {
      "application/vnd.jupyter.widget-view+json": {
       "model_id": "4bd7f0934d2a436aa6936c1e51b0f136",
       "version_major": 2,
       "version_minor": 0
      },
      "text/plain": [
       "Output()"
      ]
     },
     "metadata": {},
     "output_type": "display_data"
    },
    {
     "name": "stderr",
     "output_type": "stream",
     "text": [
      "\n",
      "\n",
      "  0%|          | 0/6 [00:02<?, ?it/s]\u001b[A\u001b[A\n"
     ]
    }
   ],
   "source": [
    "display(widgets.Output())\n",
    "pbar = tqdm(total=6)"
   ]
  },
  {
   "cell_type": "code",
   "execution_count": null,
   "id": "153102e6-f553-4cae-91e2-635d960ba34f",
   "metadata": {},
   "outputs": [
    {
     "data": {
      "application/vnd.jupyter.widget-view+json": {
       "model_id": "ffe259c84ed14eb5b874545be345840f",
       "version_major": 2,
       "version_minor": 0
      },
      "text/plain": [
       "Output()"
      ]
     },
     "metadata": {},
     "output_type": "display_data"
    },
    {
     "name": "stdout",
     "output_type": "stream",
     "text": [
      "two\n"
     ]
    }
   ],
   "source": [
    "o = widgets.Output()\n",
    "display(o)\n",
    "with o:\n",
    "    print('one')\n",
    "print('two')"
   ]
  }
 ],
 "metadata": {
  "kernelspec": {
   "display_name": "Python 3 (ipykernel)",
   "language": "python",
   "name": "python3"
  },
  "language_info": {
   "codemirror_mode": {
    "name": "ipython",
    "version": 3
   },
   "file_extension": ".py",
   "mimetype": "text/x-python",
   "name": "python",
   "nbconvert_exporter": "python",
   "pygments_lexer": "ipython3",
   "version": "3.13.2"
  }
 },
 "nbformat": 4,
 "nbformat_minor": 5
}
